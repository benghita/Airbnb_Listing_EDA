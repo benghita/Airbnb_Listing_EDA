{
 "cells": [
  {
   "cell_type": "code",
   "execution_count": null,
   "metadata": {},
   "outputs": [],
   "source": [
    "import pandas as pd\n",
    "import numpy as np\n",
    "import matplotlib as mp\n",
    "import plotly"
   ]
  },
  {
   "cell_type": "code",
   "execution_count": null,
   "metadata": {},
   "outputs": [],
   "source": [
    "pd.options.display.max_colwidth = 100"
   ]
  },
  {
   "cell_type": "code",
   "execution_count": null,
   "metadata": {},
   "outputs": [],
   "source": [
    "dataset = pd.read_csv(\"./listings.csv\")\n",
    "dataset.head()"
   ]
  },
  {
   "cell_type": "code",
   "execution_count": 39,
   "metadata": {},
   "outputs": [
    {
     "name": "stdout",
     "output_type": "stream",
     "text": [
      "<class 'pandas.core.frame.DataFrame'>\n",
      "RangeIndex: 45524 entries, 0 to 45523\n",
      "Data columns (total 18 columns):\n",
      " #   Column                          Non-Null Count  Dtype  \n",
      "---  ------                          --------------  -----  \n",
      " 0   id                              45524 non-null  int64  \n",
      " 1   name                            45524 non-null  object \n",
      " 2   host_id                         45524 non-null  int64  \n",
      " 3   host_name                       45524 non-null  object \n",
      " 4   neighbourhood_group             0 non-null      float64\n",
      " 5   neighbourhood                   45524 non-null  object \n",
      " 6   latitude                        45524 non-null  float64\n",
      " 7   longitude                       45524 non-null  float64\n",
      " 8   room_type                       45524 non-null  object \n",
      " 9   price                           45524 non-null  int64  \n",
      " 10  minimum_nights                  45524 non-null  int64  \n",
      " 11  number_of_reviews               45524 non-null  int64  \n",
      " 12  last_review                     26162 non-null  object \n",
      " 13  reviews_per_month               26162 non-null  float64\n",
      " 14  calculated_host_listings_count  45524 non-null  int64  \n",
      " 15  availability_365                45524 non-null  int64  \n",
      " 16  number_of_reviews_ltm           45524 non-null  int64  \n",
      " 17  license                         0 non-null      float64\n",
      "dtypes: float64(5), int64(8), object(5)\n",
      "memory usage: 6.3+ MB\n"
     ]
    }
   ],
   "source": [
    "dataset.info()"
   ]
  },
  {
   "cell_type": "markdown",
   "metadata": {},
   "source": [
    "### Drop unnecessary columns"
   ]
  },
  {
   "cell_type": "code",
   "execution_count": 36,
   "metadata": {},
   "outputs": [],
   "source": [
    "dataset = dataset.drop(columns=[])"
   ]
  },
  {
   "cell_type": "code",
   "execution_count": 42,
   "metadata": {},
   "outputs": [
    {
     "data": {
      "text/plain": [
       "0                             Rental unit in Beşiktaş/ bebek · 2 bedrooms · 2 beds · 1 bath\n",
       "1                      Rental unit in Istanbul Province · ★5.0 · 1 bedroom · 1 bed · 1 bath\n",
       "2                       Serviced apartment in Istanbul · ★5.0 · 1 bedroom · 2 beds · 1 bath\n",
       "3                                    Rental unit in İstanbul · 2 bedrooms · 2 beds · 1 bath\n",
       "4                                      Rental unit in Istanbul · 1 bedroom · 1 bed · 1 bath\n",
       "5                             Rental unit in Istanbul Province · 1 bedroom · 1 bed · 1 bath\n",
       "6                             Rental unit in Istanbul Province · 1 bedroom · 1 bed · 1 bath\n",
       "7                                    Home in Beşiktaş · ★4.64 · 1 bedroom · 2 beds · 1 bath\n",
       "8                             Rental unit in Istanbul Province · 1 bedroom · 1 bed · 1 bath\n",
       "9                                              Rental unit in Istanbul Province · 1 bedroom\n",
       "10                            Rental unit in Istanbul · ★5.0 · 3 bedrooms · 6 beds · 1 bath\n",
       "11             Rental unit in Galata Beyoglu Tophane · ★4.58 · 2 bedrooms · 2 beds · 1 bath\n",
       "12                             Rental unit in Istanbul · ★4.96 · 1 bedroom · 1 bed · 1 bath\n",
       "13                                   Rental unit in Beyoğlu · 1 bedroom · 1 bed · 1.5 baths\n",
       "14    Rental unit in İstanbul Galata Beyoglu Tophane · ★4.77 · 2 bedrooms · 2 beds · 1 bath\n",
       "15                              Rental unit in Beyoğlu · ★5.0 · 1 bedroom · 2 beds · 1 bath\n",
       "16                          Rental unit in Istanbul · ★4.50 · 3 bedrooms · 4 beds · 2 baths\n",
       "17                               Loft in Istanbul · ★4.72 · 2 bedrooms · 2 beds · 1.5 baths\n",
       "18                      Rental unit in Istanbul · ★4.82 · 1 bedroom · 1 bed · 1 shared bath\n",
       "19                           Rental unit in Istanbul · ★4.85 · 3 bedrooms · 4 beds · 1 bath\n",
       "Name: name, dtype: object"
      ]
     },
     "execution_count": 42,
     "metadata": {},
     "output_type": "execute_result"
    }
   ],
   "source": [
    "dataset['name'].head(20)"
   ]
  },
  {
   "cell_type": "code",
   "execution_count": 33,
   "metadata": {},
   "outputs": [
    {
     "data": {
      "text/plain": [
       "100"
      ]
     },
     "execution_count": 33,
     "metadata": {},
     "output_type": "execute_result"
    }
   ],
   "source": [
    "pd.options.display.max_colwidth"
   ]
  },
  {
   "cell_type": "code",
   "execution_count": null,
   "metadata": {},
   "outputs": [],
   "source": []
  }
 ],
 "metadata": {
  "kernelspec": {
   "display_name": "Python 3",
   "language": "python",
   "name": "python3"
  },
  "language_info": {
   "codemirror_mode": {
    "name": "ipython",
    "version": 3
   },
   "file_extension": ".py",
   "mimetype": "text/x-python",
   "name": "python",
   "nbconvert_exporter": "python",
   "pygments_lexer": "ipython3",
   "version": "3.9.13"
  },
  "orig_nbformat": 4
 },
 "nbformat": 4,
 "nbformat_minor": 2
}
